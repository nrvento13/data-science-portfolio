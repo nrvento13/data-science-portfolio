{
 "cells": [
  {
   "cell_type": "code",
   "execution_count": 1,
   "metadata": {},
   "outputs": [],
   "source": [
    "import numpy as np\n",
    "import random\n",
    "from systems import *"
   ]
  },
  {
   "cell_type": "code",
   "execution_count": 33,
   "metadata": {},
   "outputs": [],
   "source": [
    "class Card:\n",
    "    SUITS = ('Clubs', 'Diamonds', 'Hearts', 'Spades')\n",
    "    RANKS = ('A', '2', '3', '4', '5', '6', '7', '8', '9', '10', 'J', 'Q', 'K')\n",
    "    \n",
    "    def __init__(self, suit=0, rank=0):\n",
    "        self.suit = suit\n",
    "        self.rank = rank\n",
    "\n",
    "    def get_card(self):\n",
    "        return (Card.RANKS[self.rank], Card.SUITS[self.suit])\n",
    "\n",
    "class Deck:\n",
    "    def __init__(self):\n",
    "        self.cards = []\n",
    "        for suit in range(4):\n",
    "            for rank in range(0,13):\n",
    "                self.cards.append(Card(suit,rank))\n",
    "    \n",
    "    def get_deck(self, shuffle=True, n=1):\n",
    "        deck = []\n",
    "        for card in self.cards:\n",
    "            deck.append(card.get_card())\n",
    "        \n",
    "        deck = deck * n\n",
    "        \n",
    "        if shuffle:\n",
    "            deck = random.sample(deck, len(deck))\n",
    "        return deck\n",
    "\n",
    "class Player:\n",
    "    def __init__(self, purse=100, count_fxn=hi_lo):\n",
    "        self.hand = []\n",
    "        self.score = 0\n",
    "        self.purse = purse\n",
    "        self.count_fxn = count_fxn\n",
    "        self.running_count = 0\n",
    "        self.true_count = 0    \n",
    "\n",
    "    def place_bet(self, bet):\n",
    "        self.purse -= value \n",
    "\n",
    "    def update_hand(self, card):\n",
    "        self.hand.append(card)\n",
    "        rank = card[0]\n",
    "        if rank in [10, 'J', 'Q', 'K']:\n",
    "            self.score += 10\n",
    "        elif rank == 'A':\n",
    "            self.score += 1\n",
    "        else:\n",
    "            self.score += int(rank)\n",
    "        \n",
    "        if self.score > 21:\n",
    "            print('Busted!')\n",
    "            self.hand = []\n",
    "            self.score = 0\n",
    "\n",
    "        elif self.score == 21:\n",
    "            print('Blackjack!')\n",
    "\n",
    "    def update_count(self, card):\n",
    "        rank = card[0]\n",
    "        self.running_count += self.count_fxn(rank)\n",
    "        # self.true_count = round((self.running_count / n_decks_remaining)*2) / 2\n",
    "\n",
    "    def update_purse(self, winnings):\n",
    "        self.purse += winnings\n",
    "\n",
    "class Blackjack:\n",
    "    def __init__(self, n_players=1, n_decks=6):\n",
    "        self.n_players = n_players\n",
    "        self.n_decks = n_decks\n",
    "        self.decks = Deck().get_deck(shuffle=True, n=self.n_decks)\n",
    "\n",
    "    # def deal(self):\n",
    "    #     self.decks = self.decks.pop(0)\n",
    "        \n",
    "            \n",
    "        \n",
    "    "
   ]
  },
  {
   "cell_type": "code",
   "execution_count": 34,
   "metadata": {},
   "outputs": [],
   "source": [
    "l = Deck().get_deck(n=6)\n",
    "deck = Blackjack().decks\n",
    "player1 = Player()"
   ]
  },
  {
   "cell_type": "code",
   "execution_count": 44,
   "metadata": {},
   "outputs": [
    {
     "name": "stdout",
     "output_type": "stream",
     "text": [
      "Blackjack!\n",
      "[('3', 'Clubs'), ('7', 'Spades'), ('6', 'Diamonds'), ('5', 'Hearts')] 21\n",
      "6\n"
     ]
    }
   ],
   "source": [
    "card = deck.pop(0)\n",
    "player1.update_hand(card)\n",
    "player1.update_count(card)\n",
    "print(player1.hand, player1.score)\n",
    "print(player1.running_count)"
   ]
  }
 ],
 "metadata": {
  "interpreter": {
   "hash": "aee8b7b246df8f9039afb4144a1f6fd8d2ca17a180786b69acc140d282b71a49"
  },
  "kernelspec": {
   "display_name": "Python 3.9.1 64-bit",
   "language": "python",
   "name": "python3"
  },
  "language_info": {
   "codemirror_mode": {
    "name": "ipython",
    "version": 3
   },
   "file_extension": ".py",
   "mimetype": "text/x-python",
   "name": "python",
   "nbconvert_exporter": "python",
   "pygments_lexer": "ipython3",
   "version": "3.7.6"
  },
  "orig_nbformat": 4
 },
 "nbformat": 4,
 "nbformat_minor": 2
}
