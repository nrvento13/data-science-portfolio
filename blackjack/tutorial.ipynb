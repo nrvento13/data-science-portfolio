{
 "cells": [
  {
   "cell_type": "code",
   "execution_count": 137,
   "metadata": {},
   "outputs": [],
   "source": [
    "import numpy as np\n",
    "import random"
   ]
  },
  {
   "cell_type": "code",
   "execution_count": 169,
   "metadata": {},
   "outputs": [],
   "source": [
    "class Card:\n",
    "    SUITS = ('Clubs', 'Diamonds', 'Hearts', 'Spades')\n",
    "    RANKS = ('A', '2', '3', '4', '5', '6', '7', '8', '9', '10', 'J', 'Q', 'K')\n",
    "    \n",
    "    def __init__(self, suit=0, rank=0):\n",
    "        self.suit = suit\n",
    "        self.rank = rank\n",
    "\n",
    "    def get_card(self):\n",
    "        return (Card.RANKS[self.rank], Card.SUITS[self.suit])\n",
    "\n",
    "class Deck:\n",
    "    def __init__(self):\n",
    "        self.cards = []\n",
    "        for suit in range(4):\n",
    "            for rank in range(0,13):\n",
    "                self.cards.append(Card(suit,rank))\n",
    "    \n",
    "    def get_deck(self, shuffle=True, n=1):\n",
    "        deck = []\n",
    "        for card in self.cards:\n",
    "            deck.append(card.get_card())\n",
    "        \n",
    "        deck = deck * n\n",
    "        \n",
    "        if shuffle:\n",
    "            deck = random.sample(deck, len(deck))\n",
    "        return deck\n",
    "\n",
    "class Player:\n",
    "    def __init__(self):\n",
    "        pass\n",
    "\n",
    "    def get_hand(self, n=1):\n",
    "        return []\n",
    "\n",
    "class Blackjack:\n",
    "    def __init__(self, n_players=1, n_decks=6):\n",
    "        self.n_players = n_players\n",
    "        self.n_decks = n_decks\n",
    "        self.decks = Deck().get_deck(shuffle=True, n=self.n_decks)\n",
    "    \n",
    "    def play(self):\n",
    "        \n",
    "        \n",
    "    "
   ]
  },
  {
   "cell_type": "code",
   "execution_count": 171,
   "metadata": {},
   "outputs": [
    {
     "name": "stdout",
     "output_type": "stream",
     "text": [
      "[('Q', 'Clubs'), ('K', 'Clubs'), ('2', 'Hearts'), ('J', 'Spades'), ('10', 'Hearts'), ('5', 'Clubs'), ('4', 'Hearts'), ('3', 'Hearts'), ('10', 'Clubs'), ('10', 'Spades'), ('4', 'Spades'), ('J', 'Diamonds'), ('6', 'Diamonds'), ('9', 'Hearts'), ('A', 'Diamonds'), ('4', 'Hearts'), ('9', 'Diamonds'), ('3', 'Spades'), ('K', 'Diamonds'), ('8', 'Spades'), ('7', 'Spades'), ('10', 'Hearts'), ('Q', 'Spades'), ('5', 'Spades'), ('5', 'Spades'), ('A', 'Hearts'), ('10', 'Hearts'), ('2', 'Diamonds'), ('7', 'Clubs'), ('8', 'Spades'), ('A', 'Spades'), ('7', 'Hearts'), ('K', 'Hearts'), ('8', 'Hearts'), ('2', 'Hearts'), ('5', 'Hearts'), ('J', 'Hearts'), ('4', 'Diamonds'), ('8', 'Clubs'), ('4', 'Clubs'), ('7', 'Diamonds'), ('A', 'Clubs'), ('5', 'Diamonds'), ('Q', 'Clubs'), ('10', 'Clubs'), ('4', 'Diamonds'), ('6', 'Spades'), ('8', 'Spades'), ('2', 'Spades'), ('3', 'Clubs'), ('6', 'Clubs'), ('K', 'Clubs'), ('J', 'Clubs'), ('7', 'Clubs'), ('9', 'Spades'), ('Q', 'Diamonds'), ('9', 'Spades'), ('J', 'Diamonds'), ('J', 'Diamonds'), ('4', 'Clubs'), ('Q', 'Hearts'), ('K', 'Spades'), ('6', 'Spades'), ('4', 'Diamonds'), ('J', 'Clubs'), ('Q', 'Hearts'), ('4', 'Clubs'), ('7', 'Diamonds'), ('4', 'Spades'), ('8', 'Diamonds'), ('6', 'Hearts'), ('7', 'Diamonds'), ('5', 'Clubs'), ('Q', 'Spades'), ('A', 'Clubs'), ('4', 'Diamonds'), ('4', 'Diamonds'), ('K', 'Clubs'), ('9', 'Diamonds'), ('A', 'Hearts'), ('7', 'Diamonds'), ('Q', 'Diamonds'), ('3', 'Clubs'), ('5', 'Spades'), ('A', 'Hearts'), ('K', 'Diamonds'), ('K', 'Hearts'), ('8', 'Diamonds'), ('10', 'Diamonds'), ('4', 'Diamonds'), ('2', 'Spades'), ('10', 'Spades'), ('J', 'Hearts'), ('A', 'Spades'), ('5', 'Hearts'), ('10', 'Diamonds'), ('J', 'Spades'), ('5', 'Clubs'), ('6', 'Diamonds'), ('Q', 'Hearts'), ('7', 'Clubs'), ('9', 'Spades'), ('10', 'Diamonds'), ('6', 'Hearts'), ('5', 'Hearts'), ('K', 'Hearts'), ('2', 'Diamonds'), ('9', 'Spades'), ('Q', 'Spades'), ('A', 'Clubs'), ('3', 'Diamonds'), ('A', 'Hearts'), ('9', 'Hearts'), ('2', 'Hearts'), ('K', 'Spades'), ('2', 'Clubs'), ('2', 'Diamonds'), ('3', 'Diamonds'), ('Q', 'Clubs'), ('A', 'Clubs'), ('7', 'Clubs'), ('10', 'Hearts'), ('J', 'Clubs'), ('2', 'Spades'), ('K', 'Spades'), ('6', 'Spades'), ('7', 'Clubs'), ('9', 'Clubs'), ('4', 'Hearts'), ('6', 'Diamonds'), ('Q', 'Diamonds'), ('9', 'Spades'), ('K', 'Spades'), ('4', 'Spades'), ('6', 'Clubs'), ('J', 'Spades'), ('7', 'Hearts'), ('2', 'Diamonds'), ('8', 'Clubs'), ('5', 'Diamonds'), ('A', 'Spades'), ('J', 'Diamonds'), ('6', 'Clubs'), ('6', 'Spades'), ('J', 'Diamonds'), ('8', 'Clubs'), ('J', 'Spades'), ('10', 'Hearts'), ('4', 'Clubs'), ('A', 'Diamonds'), ('9', 'Clubs'), ('A', 'Spades'), ('Q', 'Diamonds'), ('7', 'Spades'), ('Q', 'Clubs'), ('K', 'Hearts'), ('A', 'Clubs'), ('9', 'Clubs'), ('10', 'Spades'), ('2', 'Spades'), ('8', 'Spades'), ('7', 'Clubs'), ('4', 'Clubs'), ('A', 'Diamonds'), ('J', 'Hearts'), ('7', 'Diamonds'), ('7', 'Hearts'), ('9', 'Clubs'), ('6', 'Diamonds'), ('8', 'Spades'), ('4', 'Spades'), ('4', 'Spades'), ('Q', 'Spades'), ('10', 'Diamonds'), ('2', 'Hearts'), ('A', 'Spades'), ('K', 'Diamonds'), ('5', 'Hearts'), ('Q', 'Hearts'), ('3', 'Spades'), ('5', 'Clubs'), ('5', 'Diamonds'), ('3', 'Diamonds'), ('3', 'Spades'), ('2', 'Diamonds'), ('5', 'Hearts'), ('A', 'Diamonds'), ('Q', 'Hearts'), ('10', 'Spades'), ('3', 'Spades'), ('6', 'Spades'), ('J', 'Hearts'), ('4', 'Hearts'), ('6', 'Hearts'), ('K', 'Clubs'), ('K', 'Diamonds'), ('6', 'Clubs'), ('8', 'Hearts'), ('J', 'Spades'), ('Q', 'Diamonds'), ('7', 'Spades'), ('2', 'Clubs'), ('A', 'Diamonds'), ('2', 'Hearts'), ('9', 'Hearts'), ('J', 'Clubs'), ('8', 'Clubs'), ('3', 'Clubs'), ('8', 'Hearts'), ('J', 'Diamonds'), ('8', 'Diamonds'), ('3', 'Hearts'), ('9', 'Spades'), ('Q', 'Diamonds'), ('2', 'Diamonds'), ('8', 'Diamonds'), ('5', 'Spades'), ('Q', 'Spades'), ('8', 'Clubs'), ('Q', 'Clubs'), ('A', 'Clubs'), ('9', 'Diamonds'), ('A', 'Hearts'), ('10', 'Clubs'), ('5', 'Diamonds'), ('4', 'Hearts'), ('6', 'Diamonds'), ('9', 'Hearts'), ('10', 'Clubs'), ('7', 'Hearts'), ('J', 'Hearts'), ('5', 'Clubs'), ('3', 'Clubs'), ('3', 'Clubs'), ('K', 'Hearts'), ('Q', 'Hearts'), ('7', 'Spades'), ('7', 'Spades'), ('9', 'Hearts'), ('10', 'Spades'), ('Q', 'Clubs'), ('2', 'Clubs'), ('3', 'Hearts'), ('5', 'Clubs'), ('3', 'Diamonds'), ('5', 'Diamonds'), ('5', 'Spades'), ('6', 'Spades'), ('K', 'Diamonds'), ('9', 'Diamonds'), ('K', 'Clubs'), ('4', 'Spades'), ('7', 'Spades'), ('3', 'Hearts'), ('10', 'Diamonds'), ('8', 'Hearts'), ('3', 'Diamonds'), ('A', 'Hearts'), ('8', 'Diamonds'), ('2', 'Clubs'), ('2', 'Spades'), ('Q', 'Spades'), ('9', 'Hearts'), ('4', 'Clubs'), ('10', 'Clubs'), ('8', 'Diamonds'), ('3', 'Spades'), ('9', 'Clubs'), ('6', 'Hearts'), ('K', 'Hearts'), ('3', 'Spades'), ('3', 'Hearts'), ('5', 'Diamonds'), ('7', 'Diamonds'), ('6', 'Hearts'), ('K', 'Diamonds'), ('9', 'Clubs'), ('6', 'Clubs'), ('6', 'Hearts'), ('3', 'Hearts'), ('8', 'Hearts'), ('J', 'Clubs'), ('9', 'Diamonds'), ('8', 'Clubs'), ('10', 'Diamonds'), ('K', 'Spades'), ('K', 'Spades'), ('J', 'Spades'), ('J', 'Clubs'), ('A', 'Spades'), ('6', 'Diamonds'), ('4', 'Hearts'), ('5', 'Spades'), ('6', 'Clubs'), ('9', 'Diamonds'), ('A', 'Diamonds'), ('2', 'Hearts'), ('2', 'Spades'), ('5', 'Hearts'), ('7', 'Hearts'), ('2', 'Clubs'), ('2', 'Clubs'), ('8', 'Spades'), ('10', 'Hearts'), ('8', 'Hearts'), ('10', 'Spades'), ('3', 'Clubs'), ('J', 'Hearts'), ('10', 'Clubs'), ('K', 'Clubs'), ('7', 'Hearts'), ('3', 'Diamonds')]\n",
      "[('9', 'Clubs'), ('3', 'Clubs'), ('7', 'Clubs'), ('4', 'Diamonds'), ('2', 'Spades'), ('9', 'Hearts'), ('A', 'Hearts'), ('K', 'Clubs'), ('6', 'Diamonds'), ('3', 'Spades'), ('A', 'Diamonds'), ('3', 'Spades'), ('K', 'Diamonds'), ('4', 'Spades'), ('4', 'Hearts'), ('6', 'Clubs'), ('A', 'Clubs'), ('7', 'Diamonds'), ('3', 'Clubs'), ('9', 'Clubs'), ('5', 'Spades'), ('5', 'Diamonds'), ('8', 'Spades'), ('9', 'Hearts'), ('Q', 'Clubs'), ('J', 'Hearts'), ('J', 'Hearts'), ('A', 'Hearts'), ('3', 'Hearts'), ('3', 'Spades'), ('8', 'Hearts'), ('6', 'Clubs'), ('6', 'Clubs'), ('7', 'Hearts'), ('7', 'Hearts'), ('J', 'Clubs'), ('10', 'Clubs'), ('6', 'Clubs'), ('J', 'Clubs'), ('J', 'Clubs'), ('10', 'Clubs'), ('7', 'Clubs'), ('K', 'Diamonds'), ('10', 'Clubs'), ('8', 'Hearts'), ('7', 'Diamonds'), ('2', 'Clubs'), ('K', 'Clubs'), ('4', 'Clubs'), ('3', 'Hearts'), ('Q', 'Clubs'), ('8', 'Diamonds'), ('6', 'Hearts'), ('6', 'Diamonds'), ('7', 'Spades'), ('Q', 'Clubs'), ('8', 'Hearts'), ('9', 'Diamonds'), ('8', 'Clubs'), ('7', 'Clubs'), ('5', 'Spades'), ('5', 'Hearts'), ('9', 'Hearts'), ('A', 'Spades'), ('J', 'Clubs'), ('5', 'Diamonds'), ('Q', 'Hearts'), ('J', 'Spades'), ('9', 'Clubs'), ('5', 'Clubs'), ('2', 'Diamonds'), ('5', 'Diamonds'), ('8', 'Diamonds'), ('10', 'Spades'), ('J', 'Hearts'), ('3', 'Hearts'), ('4', 'Hearts'), ('9', 'Spades'), ('10', 'Clubs'), ('4', 'Spades'), ('7', 'Clubs'), ('10', 'Hearts'), ('2', 'Hearts'), ('Q', 'Hearts'), ('K', 'Clubs'), ('9', 'Diamonds'), ('6', 'Hearts'), ('K', 'Diamonds'), ('8', 'Clubs'), ('10', 'Clubs'), ('6', 'Spades'), ('5', 'Clubs'), ('J', 'Spades'), ('9', 'Hearts'), ('A', 'Clubs'), ('Q', 'Spades'), ('7', 'Clubs'), ('5', 'Diamonds'), ('Q', 'Spades'), ('10', 'Diamonds'), ('3', 'Diamonds'), ('10', 'Hearts'), ('5', 'Diamonds'), ('Q', 'Hearts'), ('5', 'Hearts'), ('7', 'Diamonds'), ('10', 'Spades'), ('K', 'Spades'), ('10', 'Spades'), ('2', 'Spades'), ('5', 'Clubs'), ('J', 'Hearts'), ('7', 'Diamonds'), ('7', 'Diamonds'), ('5', 'Diamonds'), ('A', 'Clubs'), ('5', 'Clubs'), ('Q', 'Hearts'), ('Q', 'Diamonds'), ('8', 'Clubs'), ('A', 'Diamonds'), ('2', 'Hearts'), ('2', 'Diamonds'), ('2', 'Clubs'), ('J', 'Spades'), ('4', 'Clubs'), ('2', 'Hearts'), ('K', 'Hearts'), ('4', 'Hearts'), ('7', 'Hearts'), ('A', 'Diamonds'), ('4', 'Hearts'), ('4', 'Clubs'), ('4', 'Hearts'), ('4', 'Clubs'), ('6', 'Diamonds'), ('Q', 'Spades'), ('A', 'Hearts'), ('3', 'Diamonds'), ('10', 'Hearts'), ('2', 'Diamonds'), ('A', 'Hearts'), ('4', 'Spades'), ('2', 'Clubs'), ('J', 'Diamonds'), ('A', 'Spades'), ('3', 'Clubs'), ('10', 'Diamonds'), ('8', 'Spades'), ('A', 'Diamonds'), ('10', 'Diamonds'), ('Q', 'Clubs'), ('10', 'Diamonds'), ('7', 'Spades'), ('6', 'Spades'), ('6', 'Spades'), ('9', 'Clubs'), ('Q', 'Clubs'), ('2', 'Diamonds'), ('3', 'Hearts'), ('6', 'Hearts'), ('Q', 'Hearts'), ('5', 'Clubs'), ('10', 'Hearts'), ('8', 'Hearts'), ('9', 'Hearts'), ('10', 'Spades'), ('4', 'Clubs'), ('5', 'Spades'), ('3', 'Spades'), ('6', 'Diamonds'), ('8', 'Clubs'), ('3', 'Clubs'), ('8', 'Diamonds'), ('K', 'Spades'), ('K', 'Spades'), ('2', 'Spades'), ('4', 'Spades'), ('10', 'Hearts'), ('A', 'Diamonds'), ('Q', 'Diamonds'), ('J', 'Spades'), ('2', 'Spades'), ('Q', 'Spades'), ('A', 'Clubs'), ('K', 'Hearts'), ('6', 'Hearts'), ('9', 'Spades'), ('6', 'Spades'), ('6', 'Hearts'), ('5', 'Clubs'), ('10', 'Clubs'), ('3', 'Diamonds'), ('Q', 'Diamonds'), ('2', 'Hearts'), ('5', 'Spades'), ('5', 'Spades'), ('9', 'Clubs'), ('4', 'Diamonds'), ('8', 'Spades'), ('J', 'Spades'), ('A', 'Clubs'), ('9', 'Diamonds'), ('7', 'Spades'), ('9', 'Spades'), ('3', 'Spades'), ('10', 'Diamonds'), ('9', 'Clubs'), ('7', 'Spades'), ('Q', 'Diamonds'), ('2', 'Spades'), ('3', 'Clubs'), ('5', 'Hearts'), ('2', 'Hearts'), ('3', 'Diamonds'), ('J', 'Diamonds'), ('2', 'Clubs'), ('6', 'Diamonds'), ('5', 'Hearts'), ('7', 'Spades'), ('3', 'Clubs'), ('7', 'Clubs'), ('4', 'Diamonds'), ('J', 'Clubs'), ('2', 'Spades'), ('8', 'Spades'), ('8', 'Clubs'), ('2', 'Clubs'), ('3', 'Hearts'), ('8', 'Spades'), ('8', 'Clubs'), ('7', 'Hearts'), ('10', 'Spades'), ('K', 'Spades'), ('Q', 'Diamonds'), ('Q', 'Spades'), ('J', 'Diamonds'), ('2', 'Diamonds'), ('Q', 'Diamonds'), ('4', 'Clubs'), ('A', 'Spades'), ('J', 'Clubs'), ('J', 'Diamonds'), ('3', 'Hearts'), ('10', 'Spades'), ('J', 'Spades'), ('3', 'Diamonds'), ('6', 'Diamonds'), ('9', 'Diamonds'), ('7', 'Spades'), ('Q', 'Hearts'), ('3', 'Spades'), ('5', 'Hearts'), ('8', 'Spades'), ('9', 'Diamonds'), ('7', 'Diamonds'), ('4', 'Spades'), ('Q', 'Clubs'), ('9', 'Diamonds'), ('A', 'Spades'), ('9', 'Spades'), ('K', 'Diamonds'), ('4', 'Diamonds'), ('K', 'Diamonds'), ('6', 'Spades'), ('K', 'Spades'), ('K', 'Clubs'), ('A', 'Clubs'), ('8', 'Diamonds'), ('J', 'Hearts'), ('5', 'Hearts'), ('2', 'Hearts'), ('A', 'Spades'), ('A', 'Spades'), ('A', 'Hearts'), ('A', 'Hearts'), ('9', 'Hearts'), ('3', 'Diamonds'), ('8', 'Hearts'), ('J', 'Hearts'), ('6', 'Spades'), ('K', 'Clubs'), ('8', 'Diamonds'), ('10', 'Diamonds'), ('J', 'Diamonds'), ('K', 'Spades'), ('6', 'Clubs'), ('K', 'Hearts'), ('4', 'Hearts'), ('5', 'Spades'), ('7', 'Hearts'), ('K', 'Hearts'), ('K', 'Clubs'), ('J', 'Diamonds'), ('K', 'Hearts'), ('A', 'Diamonds'), ('K', 'Hearts'), ('2', 'Clubs'), ('4', 'Diamonds'), ('Q', 'Spades'), ('6', 'Hearts'), ('9', 'Spades'), ('9', 'Spades'), ('7', 'Hearts'), ('4', 'Spades'), ('2', 'Diamonds'), ('K', 'Diamonds'), ('10', 'Hearts'), ('4', 'Diamonds'), ('6', 'Clubs'), ('8', 'Hearts'), ('8', 'Diamonds')]\n"
     ]
    }
   ],
   "source": [
    "l = Deck().get_deck(n=6)\n",
    "print(l)\n",
    "\n",
    "print(Blackjack().decks)\n"
   ]
  },
  {
   "cell_type": "code",
   "execution_count": null,
   "metadata": {},
   "outputs": [],
   "source": []
  }
 ],
 "metadata": {
  "interpreter": {
   "hash": "aee8b7b246df8f9039afb4144a1f6fd8d2ca17a180786b69acc140d282b71a49"
  },
  "kernelspec": {
   "display_name": "Python 3.9.1 64-bit",
   "language": "python",
   "name": "python3"
  },
  "language_info": {
   "codemirror_mode": {
    "name": "ipython",
    "version": 3
   },
   "file_extension": ".py",
   "mimetype": "text/x-python",
   "name": "python",
   "nbconvert_exporter": "python",
   "pygments_lexer": "ipython3",
   "version": "3.7.6"
  },
  "orig_nbformat": 4
 },
 "nbformat": 4,
 "nbformat_minor": 2
}
